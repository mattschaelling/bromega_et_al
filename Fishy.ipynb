{
 "cells": [
  {
   "cell_type": "code",
   "execution_count": 1,
   "metadata": {},
   "outputs": [],
   "source": [
    "import numpy as np\n",
    "from matplotlib import pyplot as plt\n",
    "plt.rcParams['figure.figsize'] = (20,10)\n",
    "plt.rcParams.update({'font.size': 22})\n",
    "plt.rc('xtick', labelsize=10) \n",
    "plt.rc('ytick', labelsize=10) "
   ]
  },
  {
   "cell_type": "code",
   "execution_count": 72,
   "metadata": {
    "collapsed": true
   },
   "outputs": [],
   "source": [
    "beta = 1\n",
    "lam = 10\n",
    "r = 0.99\n",
    "alpha = 0.8\n",
    "delta = .7\n",
    "gamma = 1\n",
    "Sbar = 1\n",
    "S1_0 = 0\n",
    "S2_0 = Sbar\n",
    "p1_tf = 0\n",
    "p2_tf = 0\n",
    "tf = 1\n",
    "n = 365\n",
    "iters = 11"
   ]
  },
  {
   "cell_type": "code",
   "execution_count": 73,
   "metadata": {
    "collapsed": true
   },
   "outputs": [],
   "source": [
    "#Code from RK4 Lab with minor edits\n",
    "def initialize_all(y0, t0, tf, n):\n",
    "    \"\"\" An initialization routine for the different ODE solving\n",
    "    methods in the lab. This initializes Y, T, and h.\"\"\"\n",
    "    if isinstance(y0, np.ndarray):\n",
    "        Y = np.empty((n, y0.size)).squeeze()\n",
    "    else:\n",
    "        Y = np.empty(n)\n",
    "    Y[0] = y0\n",
    "    T = np.linspace(t0, tf, n)\n",
    "    h = float(tf - t0) / (n - 1)\n",
    "    return Y, T, h\n",
    "\n",
    "def RK4(f, y0, t0, tf, n):\n",
    "    \"\"\" Use the RK4 method to compute an approximate solution\n",
    "    to the ODE y' = f(t, y) at n equispaced parameter values from t0 to t\n",
    "    with initial conditions y(t0) = y0.\n",
    "    y0 is assumed to be either a constant or a one-dimensional numpy array.\n",
    "    t and t0 are assumed to be constants.\n",
    "    f is assumed to accept three arguments.\n",
    "    The first is a constant giving the value of t.\n",
    "    The second is a one-dimensional numpy array of the same size as y.\n",
    "    The third is an index to the other arrays.\n",
    "    This function returns an array Y of shape (n,) if\n",
    "    y is a constant or an array of size 1.\n",
    "    It returns an array of shape (n, y.size) otherwise.\n",
    "    In either case, Y[i] is the approximate value of y at\n",
    "    the i'th value of np.linspace(t0, t, n).\n",
    "    \"\"\"\n",
    "    Y,T,h = initialize_all(y0,t0,tf,n)\n",
    "    for i in range(n-1):\n",
    "        K1 = f(T[i],Y[i],i)\n",
    "        K2 = f(T[i]+h/2.,Y[i]+h/2.*K1,i)\n",
    "        K3 = f(T[i]+h/2.,Y[i]+h/2.*K2,i)\n",
    "        K4 = f(T[i+1],Y[i]+h*K3,i)\n",
    "        Y[i+1] = Y[i] + h/6.*(K1+2*K2 +2*K3+K4)\n",
    "    return Y"
   ]
  },
  {
   "cell_type": "code",
   "execution_count": 74,
   "metadata": {
    "collapsed": true
   },
   "outputs": [],
   "source": [
    "# initialize global variables, state, costate, and u.\n",
    "state = np.zeros((n,2))\n",
    "state0 = np.array([S1_0, S2_0])\n",
    "\n",
    "costate = np.zeros((n,2))\n",
    "costate0 = np.zeros(2)\n",
    "\n",
    "u=np.zeros(n)\n",
    "u[:] += .1\n",
    "\n",
    "# define state equations\n",
    "def state_equations(t,y,i):\n",
    "    '''\n",
    "    Parameters\n",
    "    ---------------\n",
    "    t : float\n",
    "    the time\n",
    "    y : ndarray (2,)\n",
    "    the T cell concentration and the Virus concentration at time t\n",
    "    i : int\n",
    "    index for the global variable u.\n",
    "    Returns\n",
    "    --------------\n",
    "    y_dot : ndarray (2,)\n",
    "    the derivative of the T cell concentration and the virus ←-\n",
    "    concentration at time t\n",
    "    '''\n",
    "    y_dot = np.zeros_like(y)\n",
    "    y_dot[0] = u[i] - delta*y[0]\n",
    "    y_dot[1] = Sbar * y[1] - y[1]**2 - u[i]\n",
    "    return y_dot"
   ]
  },
  {
   "cell_type": "code",
   "execution_count": 75,
   "metadata": {
    "collapsed": true
   },
   "outputs": [],
   "source": [
    "def lambda_hat(t,y,i):\n",
    "    '''\n",
    "    Parameters\n",
    "    ---------------\n",
    "    t : float\n",
    "    the time\n",
    "    y : ndarray (2,)\n",
    "    the lambda_hat values at time t\n",
    "    i : int\n",
    "    index for global variables, u and state.\n",
    "    Returns\n",
    "    --------------\n",
    "    y_dot : ndarray (2,)\n",
    "    the derivative of the lambda_hats at time t.\n",
    "    '''\n",
    "    y_dot = np.zeros_like(y)\n",
    "    y_dot[0] = delta*y[0] + beta*np.exp(state[-i-1,0]-r*t)\n",
    "    #y_dot[0] = delta*y[0] + 2.5*beta*np.exp(-r*t)*state[-i-1,0]**1.5\n",
    "    y_dot[1] = y[1]*alpha*(2*state[-i-1,1] - Sbar) - lam*u[-i-1]*np.exp(-r*tf+r*t) / (state[-i-1,1]**2)\n",
    "    return y_dot\n"
   ]
  },
  {
   "cell_type": "code",
   "execution_count": 76,
   "metadata": {},
   "outputs": [],
   "source": [
    "epsilon = 0.001\n",
    "test = epsilon + 1\n",
    "z = np.zeros(n)\n",
    "\n",
    "while(test > epsilon):\n",
    "    oldu = u.copy();\n",
    "    \n",
    "    #solve the state equations with forward iteration\n",
    "    state = RK4(state_equations, state0, 0, tf, n)\n",
    "    \n",
    "    #solve the costate equations with backwards iteration\n",
    "    costate = RK4(lambda_hat, costate0, 0, tf, n)[::-1]\n",
    "    \n",
    "    #solve for u1 and u2\n",
    "    u1 = gamma * np.maximum(z, costate[:,1] / (lam + state[:,1]*np.exp(r*np.linspace(0,tf,n))*(state[:,1] - costate[:,0])))\n",
    "    u1 = np.minimum(u1, state[:,1]-epsilon)\n",
    "    \n",
    "    #u1 = costate[:,1] / (lam + state[:,1]*np.exp(r*np.linspace(0,tf,n))*(state[:,1] - costate[:,0]))\n",
    "    \n",
    "    #update control\n",
    "    u = 0.5*(u1 + oldu)\n",
    "    \n",
    "    #test for convergence\n",
    "    test = abs(oldu - u).sum()"
   ]
  },
  {
   "cell_type": "code",
   "execution_count": 77,
   "metadata": {},
   "outputs": [],
   "source": [
    "domain = np.linspace(0, tf, n)\n",
    "\n",
    "plt.subplot(131)\n",
    "plt.plot(domain, u)\n",
    "plt.axis(\"tight\")\n",
    "plt.title(\"Fishing\")\n",
    "\n",
    "plt.subplot(132)\n",
    "plt.plot(domain, state[:,0])\n",
    "plt.axis(\"tight\")\n",
    "plt.title(\"Pollutant\")\n",
    "\n",
    "plt.subplot(133)\n",
    "plt.plot(domain, state[:,1])\n",
    "plt.axis(\"tight\")\n",
    "plt.title(\"Fish Stock\")\n",
    "\n",
    "plt.suptitle(r\"$\\beta=${}, $\\lambda$={}, $\\alpha=${}, $\\delta=${}, $\\gamma=${}, $r=${}\".format(beta,lam,alpha,delta,gamma,r))\n",
    "plt.savefig(\"parameters{}.pdf\".format(iters))\n",
    "plt.clf()"
   ]
  },
  {
   "cell_type": "code",
   "execution_count": null,
   "metadata": {
    "collapsed": true
   },
   "outputs": [],
   "source": []
  }
 ],
 "metadata": {
  "kernelspec": {
   "display_name": "Python 3",
   "language": "python",
   "name": "python3"
  },
  "language_info": {
   "codemirror_mode": {
    "name": "ipython",
    "version": 3
   },
   "file_extension": ".py",
   "mimetype": "text/x-python",
   "name": "python",
   "nbconvert_exporter": "python",
   "pygments_lexer": "ipython3",
   "version": "3.6.1"
  }
 },
 "nbformat": 4,
 "nbformat_minor": 2
}

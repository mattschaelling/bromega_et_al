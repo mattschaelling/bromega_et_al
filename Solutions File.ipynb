{
 "cells": [
  {
   "cell_type": "code",
   "execution_count": 1,
   "metadata": {},
   "outputs": [],
   "source": [
    "import gym, acme_gym\n",
    "import numpy as np\n",
    "import copy\n",
    "from scipy import linalg, integrate\n",
    "from tqdm import tqdm"
   ]
  },
  {
   "cell_type": "code",
   "execution_count": 2,
   "metadata": {
    "collapsed": true
   },
   "outputs": [],
   "source": [
    "def linearized_init(M, m, l, q1, q2, q3, q4, r):\n",
    "    '''\n",
    "    Adjusted for cart pole\n",
    "\n",
    "    Parameters:\n",
    "    ----------\n",
    "    M, m: floats\n",
    "        masses of the rickshaw and the present\n",
    "    l   : float\n",
    "        length of the rod\n",
    "    q1, q2, q3, q4, r : floats\n",
    "        relative weights of the position and velocity of the rickshaw,\n",
    "        the angular displacement theta and the change in theta,\n",
    "        and the control\n",
    "\n",
    "    Return\n",
    "    -------\n",
    "    A : ndarray of shape (4,4)\n",
    "    B : ndarray of shape (4,1)\n",
    "    Q : ndarray of shape (4,4)\n",
    "    R : ndarray of shape (1,1)\n",
    "    '''\n",
    "    g = 9.8\n",
    "    a = 1./12\n",
    "    A = np.array([[0,1,0,0],\n",
    "                  [0,0,-3*m*g/(4*M+m),0],\n",
    "                  [0,0,0,1],\n",
    "                  [0,0,(9*m*g)/(8*l*M + 2*l*m) + 3*g/(2*l),0]])\n",
    "    \n",
    "    B = np.array([0,1./(M + m/4), 0, -3./(2*l*(M + m/4))])\n",
    "    Q = np.diag([q1,q2,q3,q4])\n",
    "    R = np.array([r])\n",
    "    return A,B,Q,R"
   ]
  },
  {
   "cell_type": "code",
   "execution_count": 3,
   "metadata": {
    "collapsed": true
   },
   "outputs": [],
   "source": [
    "def cart(tv, X0, A, B, Q, R, P):\n",
    "    '''\n",
    "    adjusted for cart pole\n",
    "\n",
    "    Parameters:\n",
    "    ----------\n",
    "    tv  : ndarray of time values, with shape (n+1,)\n",
    "    X0  : Initial conditions on state variables\n",
    "    A, Q: ndarrays of shape (4,4)\n",
    "    B   : ndarray of shape (4,1)\n",
    "    R   : ndarray of shape (1,1)\n",
    "    P   : ndarray of shape (4,4)\n",
    "    Returns\n",
    "    -------\n",
    "    Z : ndarray of shape (n+1,4), the state vector at each time\n",
    "    U : ndarray of shape (n+1,), the control values\n",
    "    '''\n",
    "    def ode(z,t):\n",
    "        return (A - np.outer(B,B.T@P)/R).dot(z)\n",
    "    Z = integrate.odeint(ode, X0, tv)\n",
    "    U = -np.dot(B,P@Z.T)/R\n",
    "    return Z,U"
   ]
  },
  {
   "cell_type": "code",
   "execution_count": 4,
   "metadata": {
    "collapsed": true
   },
   "outputs": [],
   "source": [
    "def cartpole(environment, init_state, tol=1e-2, disp=False, N = 300):\n",
    "    env = environment\n",
    "    obs = init_state\n",
    "    \n",
    "    control = []\n",
    "    \n",
    "    '''\n",
    "    This function will run the cartpole problem using the environment and initial conditions provided.\n",
    "    Do NOT call env.reset().\n",
    "    Run whatever system you desire to make sure the state values fall under the tolerance level.\n",
    "    Convergence is considered reached once numpy.linalg.norm(obs[1:]) < tol, where we ignore the x position of the cart.\n",
    "    You will need to return the sequence of controls that brings the cartpole system into vertical stability.\n",
    "    Make sure to quit after N iterations, or convergence is reached, whichever occurs first.\n",
    "    Remember you are being graded against other teams' step counts, so you want to end the system updates as soon as possible.\n",
    "    \n",
    "    Parameters:\n",
    "        environment (CartPole object): The cartpole environment as described in gym and acme_gym.\n",
    "        init_state (tuple): The initial state with [x, x', θ, θ'].\n",
    "        tol (float): The tolerance to be reached before the cartpole problem is considered converged.\n",
    "        disp (bool): If True, render the image.\n",
    "        N (int): The max number of iterations.\n",
    "    \n",
    "    Returns:\n",
    "        (list): A list of control values. These will be tested on the grader's end for convergence and time step assessment.\n",
    "    \n",
    "    '''\n",
    "    #T = round(12/0.02)\n",
    "    M,m,l = 1,.1,.5\n",
    "    A,B,Q,R = linearized_init(M,m,l,0,1,1,1,.001)\n",
    "    P = linalg.solve_continuous_are(A,B.reshape((4,1)),Q,R)\n",
    "    for i in range(N):\n",
    "        if linalg.norm(obs[1:]) < tol:\n",
    "            env.close()\n",
    "            break\n",
    "            # Determine the step size based on our mode\n",
    "        else:\n",
    "            z, u = cart(np.arange(i*.02,N,.02), obs, A,B,Q,R,P)\n",
    "            step = np.array([u[0]])\n",
    "            control.append(u[0])\n",
    "\n",
    "            # Step in designated direction and update the visual\n",
    "            obs, reward, state, info = env.step(step)\n",
    "        if disp:\n",
    "            env.render()\n",
    "\n",
    "    \n",
    "    env.close()\n",
    "    return control"
   ]
  },
  {
   "cell_type": "code",
   "execution_count": 5,
   "metadata": {},
   "outputs": [
    {
     "name": "stderr",
     "output_type": "stream",
     "text": [
      "100%|█████████████████████████████████████████████████████████████████████████████████████████████████████| 200/200 [02:03<00:00,  1.61it/s]\n"
     ]
    },
    {
     "name": "stdout",
     "output_type": "stream",
     "text": [
      "Average number of steps after 200 iterations: 88.545\n"
     ]
    }
   ],
   "source": [
    "tol = 1e-2\n",
    "total = 200\n",
    "\n",
    "render = True\n",
    "\n",
    "num_steps = []\n",
    "\n",
    "for i in tqdm(range(total)):\n",
    "    env = gym.make(\"CartPoleContinuous-v0\")\n",
    "    observation = env.reset()\n",
    "    env_copy = copy.deepcopy(env)\n",
    "    \n",
    "    # This is students' code\n",
    "    control = cartpole(env_copy, observation, tol, render)\n",
    "    \n",
    "    for u in control:\n",
    "        obs, reward, state, info = env.step(np.array([u]))\n",
    "        \n",
    "        if render:\n",
    "            env.render()\n",
    "    \n",
    "    render = False\n",
    "    \n",
    "    if np.linalg.norm(obs[1:]) > tol:\n",
    "        print(\"unsuccessful\")\n",
    "    \n",
    "    num_steps.append(len(control))\n",
    "    env.close()\n",
    "\n",
    "print(\"Average number of steps after {} iterations: {}\".format(total, np.mean(num_steps)))"
   ]
  }
 ],
 "metadata": {
  "kernelspec": {
   "display_name": "Python 3",
   "language": "python",
   "name": "python3"
  },
  "language_info": {
   "codemirror_mode": {
    "name": "ipython",
    "version": 3
   },
   "file_extension": ".py",
   "mimetype": "text/x-python",
   "name": "python",
   "nbconvert_exporter": "python",
   "pygments_lexer": "ipython3",
   "version": "3.6.1"
  }
 },
 "nbformat": 4,
 "nbformat_minor": 2
}
